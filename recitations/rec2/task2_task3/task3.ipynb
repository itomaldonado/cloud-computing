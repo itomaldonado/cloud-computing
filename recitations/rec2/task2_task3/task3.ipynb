{
 "cells": [
  {
   "cell_type": "code",
   "execution_count": 1,
   "metadata": {},
   "outputs": [
    {
     "data": {
      "text/plain": [
       "[('bob', [3, 1]),\n",
       " ('tom', [3, 1]),\n",
       " ('mike', [4, 3]),\n",
       " ('lily', [2, 1]),\n",
       " ('tim', [1, 0]),\n",
       " ('zed', [1, 0])]"
      ]
     },
     "execution_count": 1,
     "metadata": {},
     "output_type": "execute_result"
    }
   ],
   "source": [
    "import findspark\n",
    "findspark.init()\n",
    "from pyspark import SparkContext\n",
    "from operator import add\n",
    "\n",
    "sc = SparkContext(appName=\"task2\")\n",
    "\n",
    "\n",
    "lines_2 = sc.textFile(\"record.txt\") #read criminal list file\n",
    "criminal_record=lines_2.flatMap(lambda x: x.split(\" \")).collect()\n",
    "\n",
    "\n",
    "lines = sc.textFile(\"relationship.txt\") #read relationship list file\n",
    "\n",
    "def record(t):\n",
    "    if t in criminal_record :return [1,1]\n",
    "    else: return [1,0]\n",
    "\n",
    "result=lines.map(lambda x: x.split(\" \"))  ## ['name1','name2']\n",
    "\n",
    "\n",
    "####collection: number of [friends & criminous friends]\n",
    "relation=result.map(lambda word: (word[0],record(word[1]))).reduceByKey(lambda x,y: [x[0]+y[0],x[1]+y[1]])\n",
    "relation.collect()"
   ]
  },
  {
   "cell_type": "code",
   "execution_count": 2,
   "metadata": {},
   "outputs": [
    {
     "data": {
      "text/plain": [
       "[('bob', 0.3333333333333333),\n",
       " ('tom', 0.3333333333333333),\n",
       " ('mike', 0.75),\n",
       " ('lily', 0.5),\n",
       " ('tim', 0.0),\n",
       " ('zed', 0.0)]"
      ]
     },
     "execution_count": 2,
     "metadata": {},
     "output_type": "execute_result"
    }
   ],
   "source": [
    "####percentage of criminal in friends list\n",
    "percent = relation.mapValues(lambda s: s[1]/s[0])\n",
    "percent.collect()"
   ]
  },
  {
   "cell_type": "code",
   "execution_count": 3,
   "metadata": {},
   "outputs": [
    {
     "data": {
      "text/plain": [
       "[('mike', 0.75)]"
      ]
     },
     "execution_count": 3,
     "metadata": {},
     "output_type": "execute_result"
    }
   ],
   "source": [
    "####filter the person who is in risk\n",
    "def risk(p):\n",
    "    if p[1]>0.5 :return True\n",
    "    else: return False\n",
    "\n",
    "risk_list = percent.filter(risk)\n",
    "risk_list.collect()"
   ]
  },
  {
   "cell_type": "code",
   "execution_count": null,
   "metadata": {},
   "outputs": [],
   "source": []
  },
  {
   "cell_type": "code",
   "execution_count": null,
   "metadata": {},
   "outputs": [],
   "source": []
  }
 ],
 "metadata": {
  "kernelspec": {
   "display_name": "Python 3",
   "language": "python",
   "name": "python3"
  },
  "language_info": {
   "codemirror_mode": {
    "name": "ipython",
    "version": 3
   },
   "file_extension": ".py",
   "mimetype": "text/x-python",
   "name": "python",
   "nbconvert_exporter": "python",
   "pygments_lexer": "ipython3",
   "version": "3.6.4"
  }
 },
 "nbformat": 4,
 "nbformat_minor": 2
}
